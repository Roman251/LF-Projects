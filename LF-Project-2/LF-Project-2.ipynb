{
  "nbformat": 4,
  "nbformat_minor": 0,
  "metadata": {
    "colab": {
      "name": "LF-Project-2.ipynb",
      "provenance": [],
      "collapsed_sections": []
    },
    "kernelspec": {
      "display_name": "Python 3",
      "language": "python",
      "name": "python3"
    },
    "language_info": {
      "codemirror_mode": {
        "name": "ipython",
        "version": 3
      },
      "file_extension": ".py",
      "mimetype": "text/x-python",
      "name": "python",
      "nbconvert_exporter": "python",
      "pygments_lexer": "ipython3",
      "version": "3.8.5"
    }
  },
  "cells": [
    {
      "cell_type": "code",
      "metadata": {
        "id": "InuvMqUcCsO6"
      },
      "source": [
        "import numpy as np"
      ],
      "execution_count": null,
      "outputs": []
    },
    {
      "cell_type": "code",
      "metadata": {
        "id": "50K-GerpTww8"
      },
      "source": [
        "data_array = np.loadtxt('/content/advertising.csv', delimiter = \",\", dtype='object')"
      ],
      "execution_count": null,
      "outputs": []
    },
    {
      "cell_type": "code",
      "metadata": {
        "colab": {
          "base_uri": "https://localhost:8080/"
        },
        "id": "yz-GHQaHCsO9",
        "outputId": "328c5669-6fb5-49cc-d23a-4510b329ed7e"
      },
      "source": [
        "def print_header(data_array):\n",
        "  print(data_array[0])\n",
        "\n",
        "print_header(data_array)"
      ],
      "execution_count": null,
      "outputs": [
        {
          "output_type": "stream",
          "name": "stdout",
          "text": [
            "['TV' 'Radio' 'Newspaper' 'Sales']\n"
          ]
        }
      ]
    },
    {
      "cell_type": "code",
      "metadata": {
        "colab": {
          "base_uri": "https://localhost:8080/"
        },
        "id": "g8SUrrelCsPA",
        "outputId": "226bf345-9709-4d76-d1d1-76ead54e848b"
      },
      "source": [
        "def head(data_array):\n",
        "  print(data_array[0:6, ])\n",
        "\n",
        "head(data_array)"
      ],
      "execution_count": null,
      "outputs": [
        {
          "output_type": "stream",
          "name": "stdout",
          "text": [
            "[['TV' 'Radio' 'Newspaper' 'Sales']\n",
            " ['230.1' '37.8' '69.2' '22.1']\n",
            " ['44.5' '39.3' '45.1' '10.4']\n",
            " ['17.2' '45.9' '69.3' '12']\n",
            " ['151.5' '41.3' '58.5' '16.5']\n",
            " ['180.8' '10.8' '58.4' '17.9']]\n"
          ]
        }
      ]
    },
    {
      "cell_type": "code",
      "metadata": {
        "colab": {
          "base_uri": "https://localhost:8080/"
        },
        "id": "Zk8i1LvjSkWX",
        "outputId": "fa5ef61a-f7a1-4ef1-97a5-a8eb6b2d2c55"
      },
      "source": [
        "def check_null(data):\n",
        "  try:\n",
        "    return np.all(np.isnan(data[1:, :].astype('float')))\n",
        "  except Exception as e:\n",
        "    print(e)\n",
        "\n",
        "check_null(data_array)"
      ],
      "execution_count": null,
      "outputs": [
        {
          "output_type": "execute_result",
          "data": {
            "text/plain": [
              "False"
            ]
          },
          "metadata": {},
          "execution_count": 5
        }
      ]
    },
    {
      "cell_type": "code",
      "metadata": {
        "colab": {
          "base_uri": "https://localhost:8080/"
        },
        "id": "u2FcD2SGClsd",
        "outputId": "6d69ae05-3e40-49cf-edac-ad898c12c9a3"
      },
      "source": [
        "def index_header(data_frame):\n",
        "  for index, value in enumerate(data_frame[0]):\n",
        "      print(index, value)\n",
        "\n",
        "index_header(data_array)"
      ],
      "execution_count": null,
      "outputs": [
        {
          "output_type": "stream",
          "name": "stdout",
          "text": [
            "0 TV\n",
            "1 Radio\n",
            "2 Newspaper\n",
            "3 Sales\n"
          ]
        }
      ]
    },
    {
      "cell_type": "code",
      "metadata": {
        "id": "Nrvnny8ICsPH"
      },
      "source": [
        "def outlier_pct(data_frame, col_index):\n",
        "  '''\n",
        "  calculate the outlier percentage \n",
        "  '''\n",
        "  try:\n",
        "    col = data_frame[1:, col_index].astype('float')\n",
        "    max_thresold = np.percentile(col, 99)\n",
        "    min_threshold = np.percentile(col, 1) \n",
        "    no_outliers = [y for y in col.tolist() if y >= min_threshold and y <= max_thresold]\n",
        "\n",
        "    out_perct = ((len(col)-len(no_outliers))/len(col))*100\n",
        "    return \"Outlier Percent {} : \".format(out_perct)\n",
        "  \n",
        "  except Exception as e:\n",
        "    print(\"cannot convert the column values to float\")"
      ],
      "execution_count": null,
      "outputs": []
    },
    {
      "cell_type": "code",
      "metadata": {
        "colab": {
          "base_uri": "https://localhost:8080/",
          "height": 35
        },
        "id": "MqbNCHbHeq1e",
        "outputId": "d4655808-907f-49a5-f5fc-6e4ba2c63c62"
      },
      "source": [
        "outlier_pct(data_array, 3)"
      ],
      "execution_count": null,
      "outputs": [
        {
          "output_type": "execute_result",
          "data": {
            "application/vnd.google.colaboratory.intrinsic+json": {
              "type": "string"
            },
            "text/plain": [
              "'Outlier Percent 2.0 : '"
            ]
          },
          "metadata": {},
          "execution_count": 8
        }
      ]
    },
    {
      "cell_type": "code",
      "metadata": {
        "id": "jl25tS4ggXl9"
      },
      "source": [
        "def sep_header(data_array):\n",
        "  '''\n",
        "  seperate header from the rest of the data\n",
        "  '''\n",
        "  header = data_array[0]\n",
        "  data_frame = data_array[1:, :].astype('float')\n",
        "\n",
        "  return header, data_frame"
      ],
      "execution_count": null,
      "outputs": []
    },
    {
      "cell_type": "code",
      "metadata": {
        "id": "uGhKDuTSCsPB"
      },
      "source": [
        "def drop_cols(data, indexes = []):\n",
        "  return np.delete(data, indexes, axis=1)\n",
        "\n",
        "data_array = drop_cols(data_array,[3])"
      ],
      "execution_count": null,
      "outputs": []
    },
    {
      "cell_type": "code",
      "metadata": {
        "id": "A0Yj56atXllG"
      },
      "source": [
        "header, corr_values = sep_header(data_array)"
      ],
      "execution_count": null,
      "outputs": []
    },
    {
      "cell_type": "code",
      "metadata": {
        "id": "UrilpD1aCsPL",
        "colab": {
          "base_uri": "https://localhost:8080/"
        },
        "outputId": "94cb3218-f349-428d-c3e7-e2e577ff10fc"
      },
      "source": [
        "stat = dict()\n",
        "\n",
        "for col_name in header:\n",
        "    stat[col_name] = {'Mean': 0, 'Std': 0, 'Q3': 0, 'Q1': 0, 'Minimum': 0, 'Maximum':0}\n",
        "\n",
        "stat.keys()"
      ],
      "execution_count": null,
      "outputs": [
        {
          "output_type": "execute_result",
          "data": {
            "text/plain": [
              "dict_keys(['TV', 'Radio', 'Newspaper'])"
            ]
          },
          "metadata": {},
          "execution_count": 12
        }
      ]
    },
    {
      "cell_type": "code",
      "metadata": {
        "id": "cdvEGOQKEoJY"
      },
      "source": [
        "index = 0\n",
        "for col_name in stat.keys():\n",
        "\n",
        "  data = corr_values[:, index]\n",
        "  \n",
        "  stat[col_name]['Minimum'] = '{0:.2f}'.format(np.min(data))\n",
        "  stat[col_name]['Maximum'] = '{0:.2f}'.format(np.max(data))\n",
        "  stat[col_name]['Q1'] = '{0:.2f}'.format(np.percentile(data,25))\n",
        "  stat[col_name]['Q3'] = '{0:.2f}'.format(np.percentile(data,75))\n",
        "  stat[col_name]['Mean'] = '{0:.2f}'.format(np.mean(data))\n",
        "  stat[col_name]['Std'] = '{0:.2f}'.format(np.std(data))\n",
        "\n",
        "  index += 1"
      ],
      "execution_count": null,
      "outputs": []
    },
    {
      "cell_type": "code",
      "metadata": {
        "colab": {
          "base_uri": "https://localhost:8080/"
        },
        "id": "jpIUBxuhRxSs",
        "outputId": "09d16202-f7be-4e09-9e85-b4de14ffb3bf"
      },
      "source": [
        "stat_array = np.empty((7,4), dtype='object')\n",
        "stat_array"
      ],
      "execution_count": null,
      "outputs": [
        {
          "output_type": "execute_result",
          "data": {
            "text/plain": [
              "array([[None, None, None, None],\n",
              "       [None, None, None, None],\n",
              "       [None, None, None, None],\n",
              "       [None, None, None, None],\n",
              "       [None, None, None, None],\n",
              "       [None, None, None, None],\n",
              "       [None, None, None, None]], dtype=object)"
            ]
          },
          "metadata": {},
          "execution_count": 14
        }
      ]
    },
    {
      "cell_type": "code",
      "metadata": {
        "id": "lEd43mcYTUGP"
      },
      "source": [
        "stat_array[0, 1:] = header\n",
        "stat_array[1:, 0] = ['Mean', 'Std', 'Q3', 'Q1', 'Minimum', 'Maximum']"
      ],
      "execution_count": null,
      "outputs": []
    },
    {
      "cell_type": "code",
      "metadata": {
        "id": "_euAa8b9WEnL"
      },
      "source": [
        "for i in range(0, 6):\n",
        "    for j in range(0, 3):\n",
        "        stat_array[i+1][j+1] = stat[stat_array[0][j+1]][stat_array[i+1][0]]"
      ],
      "execution_count": null,
      "outputs": []
    },
    {
      "cell_type": "code",
      "metadata": {
        "colab": {
          "base_uri": "https://localhost:8080/"
        },
        "id": "XAAu9CMad0fV",
        "outputId": "49d681e0-2c6c-4c41-c93a-c72df0af316b"
      },
      "source": [
        "stat_array"
      ],
      "execution_count": null,
      "outputs": [
        {
          "output_type": "execute_result",
          "data": {
            "text/plain": [
              "array([[None, 'TV', 'Radio', 'Newspaper'],\n",
              "       ['Mean', '147.04', '23.26', '30.55'],\n",
              "       ['Std', '85.64', '14.81', '21.72'],\n",
              "       ['Q3', '218.82', '36.52', '45.10'],\n",
              "       ['Q1', '74.38', '9.97', '12.75'],\n",
              "       ['Minimum', '0.70', '0.00', '0.30'],\n",
              "       ['Maximum', '296.40', '49.60', '114.00']], dtype=object)"
            ]
          },
          "metadata": {},
          "execution_count": 17
        }
      ]
    },
    {
      "cell_type": "code",
      "metadata": {
        "colab": {
          "base_uri": "https://localhost:8080/"
        },
        "id": "Le3083-ONIup",
        "outputId": "c57e37de-0c6a-46f3-ca8a-f591f65c8735"
      },
      "source": [
        "from tabulate import tabulate\n",
        "\n",
        "table = tabulate(stat_array.T, tablefmt=\"fancy_grid\")\n",
        "\n",
        "print(table)"
      ],
      "execution_count": null,
      "outputs": [
        {
          "output_type": "stream",
          "name": "stdout",
          "text": [
            "╒═══════════╤════════╤═══════╤════════╤═══════╤═════════╤═════════╕\n",
            "│           │ Mean   │ Std   │ Q3     │ Q1    │ Minimum │ Maximum │\n",
            "├───────────┼────────┼───────┼────────┼───────┼─────────┼─────────┤\n",
            "│ TV        │ 147.04 │ 85.64 │ 218.82 │ 74.38 │ 0.70    │ 296.40  │\n",
            "├───────────┼────────┼───────┼────────┼───────┼─────────┼─────────┤\n",
            "│ Radio     │ 23.26  │ 14.81 │ 36.52  │ 9.97  │ 0.00    │ 49.60   │\n",
            "├───────────┼────────┼───────┼────────┼───────┼─────────┼─────────┤\n",
            "│ Newspaper │ 30.55  │ 21.72 │ 45.10  │ 12.75 │ 0.30    │ 114.00  │\n",
            "╘═══════════╧════════╧═══════╧════════╧═══════╧═════════╧═════════╛\n"
          ]
        }
      ]
    }
  ]
}